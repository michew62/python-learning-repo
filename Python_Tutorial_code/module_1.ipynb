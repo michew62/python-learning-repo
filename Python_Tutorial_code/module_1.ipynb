{
 "cells": [
  {
   "cell_type": "code",
   "execution_count": 3,
   "metadata": {},
   "outputs": [
    {
     "name": "stdout",
     "output_type": "stream",
     "text": [
      "Hello, world!\n",
      "15\n",
      "2.0\n"
     ]
    }
   ],
   "source": [
    "x = 5\n",
    "y = 10\n",
    "\n",
    "z = x + y\n",
    "\n",
    "print(\"Hello, world!\")\n",
    "print(z)\n",
    "\n",
    "j = y / x\n",
    "print(j)"
   ]
  },
  {
   "cell_type": "code",
   "execution_count": 5,
   "metadata": {},
   "outputs": [
    {
     "name": "stdout",
     "output_type": "stream",
     "text": [
      "<class 'int'>\n"
     ]
    }
   ],
   "source": [
    "print(type(z))"
   ]
  },
  {
   "cell_type": "code",
   "execution_count": 8,
   "metadata": {},
   "outputs": [
    {
     "name": "stdout",
     "output_type": "stream",
     "text": [
      "6\n"
     ]
    }
   ],
   "source": [
    "a = 2\n",
    "b = 3\n",
    "\n",
    "c = a * b\n",
    "print(c)"
   ]
  },
  {
   "cell_type": "code",
   "execution_count": 10,
   "metadata": {},
   "outputs": [
    {
     "name": "stdout",
     "output_type": "stream",
     "text": [
      "12.56\n"
     ]
    }
   ],
   "source": [
    "radius = 2\n",
    "pi = 3.14\n",
    "\n",
    "area = pi * (radius ** 2)\n",
    "\n",
    "print(area)"
   ]
  },
  {
   "cell_type": "code",
   "execution_count": 17,
   "metadata": {},
   "outputs": [
    {
     "name": "stdout",
     "output_type": "stream",
     "text": [
      "My name is: Michele and I like Gardening.\n"
     ]
    }
   ],
   "source": [
    "name = \"Michele\"\n",
    "hobby = \"Gardening\"\n",
    "\n",
    "outcome = \"My name is: \" + name + \" and I like \" + hobby + \".\"\n",
    "print(outcome)\n",
    "\n",
    "outcome_2 = f\"My name is {name}, and I like {hobby}\""
   ]
  },
  {
   "cell_type": "code",
   "execution_count": 12,
   "metadata": {},
   "outputs": [
    {
     "name": "stdout",
     "output_type": "stream",
     "text": [
      "CLAs per year\n"
     ]
    }
   ],
   "source": [
    "dropdown = \"CLAs\"\n",
    "title = dropdown + \" per year\"\n",
    "\n",
    "print(title)"
   ]
  },
  {
   "cell_type": "code",
   "execution_count": 19,
   "metadata": {},
   "outputs": [
    {
     "name": "stdout",
     "output_type": "stream",
     "text": [
      "My name is: Michele, and I am an Analyst.\n"
     ]
    }
   ],
   "source": [
    "name = \"Michele\"\n",
    "job_title = \"Analyst\"\n",
    "\n",
    "outcome  = f\"My name is: {name}, and I am an {job_title}.\"\n",
    "\n",
    "print(outcome)"
   ]
  },
  {
   "cell_type": "code",
   "execution_count": 30,
   "metadata": {},
   "outputs": [
    {
     "name": "stdout",
     "output_type": "stream",
     "text": [
      "1\n",
      "7\n",
      "4567\n",
      "4567\n",
      "13579\n",
      "987654321\n"
     ]
    }
   ],
   "source": [
    "num_string = \"123456789\"\n",
    "\n",
    "sub_string = num_string[0]\n",
    "\n",
    "print(sub_string)\n",
    "\n",
    "sub_string_rhs = num_string[-3]\n",
    "\n",
    "print(sub_string_rhs)\n",
    "\n",
    "sub_range = num_string[3:-2]\n",
    "print(sub_range)\n",
    "\n",
    "sub_range_2 = num_string[3:7]\n",
    "print(sub_range_2)\n",
    "\n",
    "step_range = num_string[ : :2]\n",
    "print(step_range)\n",
    "\n",
    "reverse = num_string [-1: :-1]\n",
    "print(reverse)"
   ]
  },
  {
   "cell_type": "code",
   "execution_count": 33,
   "metadata": {},
   "outputs": [
    {
     "name": "stdout",
     "output_type": "stream",
     "text": [
      "258\n"
     ]
    }
   ],
   "source": [
    "slice_this_phrase = \"dog cat racoon\"\n",
    "\n",
    "range = num_string[1::3]\n",
    "print(range)"
   ]
  },
  {
   "cell_type": "code",
   "execution_count": 34,
   "metadata": {},
   "outputs": [
    {
     "name": "stdout",
     "output_type": "stream",
     "text": [
      "dog\n",
      "cat\n",
      "racoon\n"
     ]
    }
   ],
   "source": [
    "slice_this_phrase = 'dog cat racoon'\n",
    "print(slice_this_phrase[ :3])\n",
    "print(slice_this_phrase[4:7])\n",
    "print(slice_this_phrase[-6:])\n",
    "                        "
   ]
  }
 ],
 "metadata": {
  "kernelspec": {
   "display_name": "Python 3",
   "language": "python",
   "name": "python3"
  },
  "language_info": {
   "codemirror_mode": {
    "name": "ipython",
    "version": 3
   },
   "file_extension": ".py",
   "mimetype": "text/x-python",
   "name": "python",
   "nbconvert_exporter": "python",
   "pygments_lexer": "ipython3",
   "version": "3.10.13"
  }
 },
 "nbformat": 4,
 "nbformat_minor": 2
}
